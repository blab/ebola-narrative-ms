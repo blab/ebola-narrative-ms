{
 "cells": [
  {
   "cell_type": "markdown",
   "metadata": {},
   "source": [
    "## A notebook to compare strains between public & private build to converge on the appropriate dataset\n",
    "\n",
    "Private names are \n",
    "\n",
    "\n",
    "Note: Private datsets have different names. Before using this notebook, use the script `./scripts/convert_private_json_names_to_match_public.py` to produce a private build with names in the same format as public. This allows easy tanglegrams and name matching.\n",
    "\n",
    "## How to get the private JSON\n",
    "\n",
    "1. I used the private git repo at 2f3c4de (commit msg: \"updated to sequencing run 2020-07-28\")\n",
    "2. Convert to auspice v2 format (see below)\n",
    "3. Converted the JSON into a format where the name matches the public & manuscript builds\n",
    "\n",
    "```sh\n",
    "python ./scripts/convert_private_json_names_to_match_public.py ignore/private_2f3c4de.json > ignore/private_2f3c4de_stripped-names.json\n",
    "```\n",
    "\n",
    "## How to get the public JSON\n",
    "\n",
    "1. Convert the public build JSON via `auspice convert --v1 <meta json> <tree json> --output ./ignore/public_5891e6e.json`\n",
    "\n",
    "\n",
    "## How to get the manuscript JSON\n",
    "\n",
    "1. `auspice convert --v1 auspice/ebola-narrative-ms_meta.json auspice/ebola-narrative-ms_tree.json --output ignore/ms_4e33e36.json`"
   ]
  },
  {
   "cell_type": "code",
   "execution_count": null,
   "metadata": {},
   "outputs": [],
   "source": [
    "private_json_path = \"../ignore/private_2f3c4de_stripped-names.json\"\n",
    "private_dropped_strains_path = \"../ignore/private_2f3c4de_dropped-trains.txt\"\n",
    "\n",
    "public_json_path = \"../ignore/public_5891e6e.json\"\n",
    "public_dropped_strains_path = \"../ignore/public_5891e6e_dropped-strains.txt\"\n",
    "\n",
    "ms_json_path = \"../auspice/ebola_nord-kivu_manuscript.json\"\n",
    "ms_dropped_strains_path = \"../config/dropped_strains.txt\"\n",
    "\n"
   ]
  },
  {
   "cell_type": "code",
   "execution_count": null,
   "metadata": {},
   "outputs": [],
   "source": [
    "import json\n",
    "def get_names_from_auspice_v2_json(p):\n",
    "    s = {}\n",
    "    def collect(n):\n",
    "        if not n['name'].startswith(\"NODE\"):\n",
    "            s[n['name']] = n['node_attrs']\n",
    "        if 'children' in n.keys():\n",
    "            for c in n['children']:\n",
    "                   collect(c)\n",
    "    with open(p) as fh:\n",
    "        d = json.load(fh)\n",
    "        collect(d['tree'])\n",
    "    return s\n",
    "\n",
    "def get_names_from_exclude_list(p):\n",
    "    s = {}\n",
    "    with open(p) as fh:\n",
    "        for line in fh:\n",
    "            if not line.startswith('#') and line.strip():\n",
    "                parts = line.split()\n",
    "                s[parts[0]] = \" \".join(parts[1:])\n",
    "    return s\n",
    "\n",
    "strains = {\n",
    "    'private_dataset': get_names_from_auspice_v2_json(private_json_path),\n",
    "    'public_dataset': get_names_from_auspice_v2_json(public_json_path),\n",
    "    'ms_dataset': get_names_from_auspice_v2_json(ms_json_path),\n",
    "\n",
    "    'private_dropped': get_names_from_exclude_list(private_dropped_strains_path),\n",
    "    'public_dropped': get_names_from_exclude_list(public_dropped_strains_path),\n",
    "    'ms_dropped': get_names_from_exclude_list(ms_dropped_strains_path),\n",
    "}\n",
    "\n",
    "def compare_datasets(*names):\n",
    "    strain_sets = [{k for k in names.keys()} for names in [strains[n] for n in names]]\n",
    "    for i, n in enumerate(names):\n",
    "        print(f\"{n} has {len(strain_sets[i])} strains\")\n",
    "    print()\n",
    "    \n",
    "    ## intersection\n",
    "    strains_in_common = set.intersection(*strain_sets)\n",
    "    print(f\"n(strains in common): {len(strains_in_common)}\")\n",
    "    print()\n",
    "\n",
    "    ## get unique to each dataset\n",
    "    for i in range(0, len(names)):\n",
    "        print(f\"Strains unique to {names[i]}:\")\n",
    "        for n in strain_sets[i] - set.union(*[s for j, s in enumerate(strain_sets) if j!=i]):\n",
    "            print(f\"\\t{n}\")\n",
    "\n",
    "    print()\n",
    "    ## get unique to pairs using the trick that in an n=3 dataset if we focus on one there are two left...\n",
    "    for i in range(0, len(names)):\n",
    "        print(f\"Strains unique to {' & '.join([names[j] for j in range(0, len(names)) if i!=j])}, in orther words excluded from {names[i]}\")\n",
    "        for n in set.intersection(*[s for j, s in enumerate(strain_sets) if j!=i]) - strain_sets[i]:\n",
    "            postscript = f\"(in {names[i]} dropped list)\" if n in strains[names[i].replace('dataset', 'dropped')] else \"\"\n",
    "            print(f\"\\t{n} {postscript}\")\n",
    "    \n",
    "compare_datasets(\"private_dataset\", \"public_dataset\", \"ms_dataset\")\n"
   ]
  },
  {
   "cell_type": "code",
   "execution_count": null,
   "metadata": {},
   "outputs": [],
   "source": [
    "\n"
   ]
  },
  {
   "cell_type": "markdown",
   "metadata": {},
   "source": []
  },
  {
   "cell_type": "code",
   "execution_count": null,
   "metadata": {},
   "outputs": [],
   "source": []
  },
  {
   "cell_type": "code",
   "execution_count": null,
   "metadata": {},
   "outputs": [],
   "source": []
  }
 ],
 "metadata": {
  "kernelspec": {
   "display_name": "Python 3",
   "language": "python",
   "name": "python3"
  },
  "language_info": {
   "codemirror_mode": {
    "name": "ipython",
    "version": 3
   },
   "file_extension": ".py",
   "mimetype": "text/x-python",
   "name": "python",
   "nbconvert_exporter": "python",
   "pygments_lexer": "ipython3",
   "version": "3.6.6"
  }
 },
 "nbformat": 4,
 "nbformat_minor": 4
}
